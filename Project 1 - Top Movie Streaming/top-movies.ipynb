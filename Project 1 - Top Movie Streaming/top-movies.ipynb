{
 "cells": [
  {
   "cell_type": "code",
   "execution_count": null,
   "metadata": {},
   "outputs": [],
   "source": [
    "import numpy as np\n",
    "import pandas as pd\n",
    "import seaborn as sns\n",
    "\n",
    "import matplotlib.pyplot as plt\n",
    "\n",
    "import plotly.offline as pyo\n",
    "\n",
    "pyo.init_notebook_mode()\n",
    "\n",
    "import plotly.express as px\n",
    "\n",
    "import plotly.io as pio\n",
    "pio.renderers.default = 'notebook_connected'\n",
    "\n",
    "%matplotlib inline"
   ]
  },
  {
   "cell_type": "markdown",
   "metadata": {},
   "source": [
    "Importing Data"
   ]
  },
  {
   "cell_type": "code",
   "execution_count": null,
   "metadata": {},
   "outputs": [],
   "source": [
    "df = pd.read_csv('D:\\Coding\\Fuul Stack Data Scientist\\Project 1 - Top Movie Streaming\\moviestreams.csv')\n",
    "\n",
    "df.head()"
   ]
  },
  {
   "cell_type": "code",
   "execution_count": null,
   "metadata": {},
   "outputs": [],
   "source": [
    "cols = df.columns.to_list()\n",
    "\n",
    "cols"
   ]
  },
  {
   "cell_type": "markdown",
   "metadata": {},
   "source": [
    "Cleaning Data"
   ]
  },
  {
   "cell_type": "markdown",
   "metadata": {},
   "source": [
    "1. Dropping unnecessary columns"
   ]
  },
  {
   "cell_type": "code",
   "execution_count": null,
   "metadata": {},
   "outputs": [],
   "source": [
    "df.drop(['Unnamed: 0', 'ID'], axis=1, inplace=True)"
   ]
  },
  {
   "cell_type": "markdown",
   "metadata": {},
   "source": [
    "2. Checking missing values"
   ]
  },
  {
   "cell_type": "code",
   "execution_count": null,
   "metadata": {},
   "outputs": [],
   "source": [
    "df.isna().sum()"
   ]
  },
  {
   "cell_type": "code",
   "execution_count": null,
   "metadata": {},
   "outputs": [],
   "source": [
    "#removing '+' from 'Age' column\n",
    "df['Age Group'] = df['Age'].str.replace('+', '')\n",
    "\n",
    "#remove 'all' from 'Age' column\n",
    "df['Age Group'] = df['Age Group'].str.lower().replace('all', '0')\n",
    "\n",
    "df['Age Group'] = df['Age Group'].astype(float)\n",
    "\n",
    "df['Age Group']"
   ]
  },
  {
   "cell_type": "code",
   "execution_count": null,
   "metadata": {},
   "outputs": [],
   "source": [
    "df['New_Rotten_Tomatoes'] = df['Rotten Tomatoes'].str.replace('%', '')\n",
    "\n",
    "df['New_Rotten_Tomatoes'] = df['New_Rotten_Tomatoes'].astype(float)\n",
    "\n",
    "df['New_Rotten_Tomatoes']"
   ]
  },
  {
   "cell_type": "markdown",
   "metadata": {},
   "source": [
    "Visualisations"
   ]
  },
  {
   "cell_type": "markdown",
   "metadata": {},
   "source": [
    "1. Number of movies for each Age Group"
   ]
  },
  {
   "cell_type": "code",
   "execution_count": null,
   "metadata": {},
   "outputs": [],
   "source": [
    "df['Age Group'].value_counts()"
   ]
  },
  {
   "cell_type": "markdown",
   "metadata": {},
   "source": [
    "2. Top 10 languages in Streaming Services"
   ]
  },
  {
   "cell_type": "code",
   "execution_count": null,
   "metadata": {},
   "outputs": [],
   "source": [
    "df.Language.value_counts()"
   ]
  },
  {
   "cell_type": "code",
   "execution_count": null,
   "metadata": {},
   "outputs": [],
   "source": [
    "language = df.Language.value_counts().head(10)\n",
    "\n",
    "plt.figure(figsize=(15, 8))\n",
    "\n",
    "plt.title('Top 10 Languages in Streaming Services')\n",
    "\n",
    "sns.barplot(x=language.index, y=language.values)"
   ]
  },
  {
   "cell_type": "code",
   "execution_count": null,
   "metadata": {},
   "outputs": [],
   "source": [
    "fig = px.pie(df,\n",
    "    values=language.values,\n",
    "    names=language.index,\n",
    "    title='Top 10 Languages in Streaming Services',\n",
    "    height=600)\n",
    "\n",
    "fig.show()"
   ]
  },
  {
   "cell_type": "markdown",
   "metadata": {},
   "source": [
    "3. Number of Movies in specific age group in All services"
   ]
  },
  {
   "cell_type": "code",
   "execution_count": null,
   "metadata": {},
   "outputs": [],
   "source": [
    "fig = px.bar(df,\n",
    "    y=df['Age'].value_counts(),\n",
    "    x=df['Age'].value_counts().index,\n",
    "    title='Number of Movies in specific age group in All services',\n",
    "    text=df['Age'].value_counts(),\n",
    "    height=600)\n",
    "\n",
    "fig.update_traces(texttemplate='%{text:.2s}', textposition='outside')\n",
    "fig.show()"
   ]
  },
  {
   "cell_type": "markdown",
   "metadata": {},
   "source": [
    "4. Number of Movies in specific age group in Netflix"
   ]
  },
  {
   "cell_type": "code",
   "execution_count": null,
   "metadata": {},
   "outputs": [],
   "source": [
    "netflix_df = df[df['Netflix']==1]\n",
    "\n",
    "fig = px.bar(netflix_df,\n",
    "    y=netflix_df['Age'].value_counts(),\n",
    "    x=netflix_df['Age'].value_counts().index,\n",
    "    title='Number of Movies in specific age group in Netflix services',\n",
    "    text=netflix_df['Age'].value_counts(),\n",
    "    height=600)\n",
    "\n",
    "fig.update_traces(texttemplate='%{text:.2s}', textposition='outside')\n",
    "fig.show()"
   ]
  },
  {
   "cell_type": "markdown",
   "metadata": {},
   "source": [
    "5. Number of Movies in specific age group in Prime Video"
   ]
  },
  {
   "cell_type": "code",
   "execution_count": null,
   "metadata": {},
   "outputs": [],
   "source": [
    "prime_df = df[df['Prime Video']==1]\n",
    "\n",
    "fig = px.bar(prime_df,\n",
    "    y=prime_df['Age'].value_counts(),\n",
    "    x=prime_df['Age'].value_counts().index,\n",
    "    title='Number of Movies in specific age group in Prime Video services',\n",
    "    text=prime_df['Age'].value_counts(),\n",
    "    height=600)\n",
    "\n",
    "fig.update_traces(texttemplate='%{text:.2s}', textposition='outside')\n",
    "fig.show()"
   ]
  },
  {
   "cell_type": "markdown",
   "metadata": {},
   "source": [
    "6. Number of Movies in specific age group in Disney+"
   ]
  },
  {
   "cell_type": "code",
   "execution_count": null,
   "metadata": {},
   "outputs": [],
   "source": [
    "disney_df = df[df['Disney+']==1]\n",
    "\n",
    "fig = px.bar(disney_df,\n",
    "    y=disney_df['Age'].value_counts(),\n",
    "    x=disney_df['Age'].value_counts().index,\n",
    "    title='Number of Movies in specific age group in Prime Video services',\n",
    "    text=disney_df['Age'].value_counts(),\n",
    "    height=600)\n",
    "\n",
    "fig.update_traces(texttemplate='%{text:.2s}', textposition='outside')\n",
    "fig.show()"
   ]
  },
  {
   "cell_type": "markdown",
   "metadata": {},
   "source": [
    "7. Number of Movies in specific age group in Hulu"
   ]
  },
  {
   "cell_type": "code",
   "execution_count": null,
   "metadata": {},
   "outputs": [],
   "source": [
    "hulu_df = df[df['Hulu']==1]\n",
    "\n",
    "fig = px.bar(hulu_df,\n",
    "    y=hulu_df['Age'].value_counts(),\n",
    "    x=hulu_df['Age'].value_counts().index,\n",
    "    title='Number of Movies in specific age group in Prime Video services',\n",
    "    text=hulu_df['Age'].value_counts(),\n",
    "    height=600)\n",
    "\n",
    "fig.update_traces(texttemplate='%{text:.2s}', textposition='outside')\n",
    "fig.show()"
   ]
  },
  {
   "cell_type": "markdown",
   "metadata": {},
   "source": [
    "7. Overall Rotten Tomato ratings for all services"
   ]
  },
  {
   "cell_type": "code",
   "execution_count": null,
   "metadata": {},
   "outputs": [],
   "source": [
    "fig = px.bar(df,\n",
    "    x=df['Rotten Tomatoes'].value_counts().index,\n",
    "    y=df['Rotten Tomatoes'].value_counts(),\n",
    "    title='Overall Rotten Tomato Ratings',\n",
    "    text=df['Rotten Tomatoes'].value_counts(),\n",
    "    height=600)\n",
    "\n",
    "fig.update_traces(texttemplate='%{text:.2s}', textposition='outside')\n",
    "fig.show()"
   ]
  },
  {
   "cell_type": "markdown",
   "metadata": {},
   "source": [
    "8. Rotten Tomato ratings for each service"
   ]
  },
  {
   "cell_type": "code",
   "execution_count": null,
   "metadata": {},
   "outputs": [],
   "source": [
    "netflix_df['Rotten Tomatoes'].value_counts().sum()"
   ]
  },
  {
   "cell_type": "code",
   "execution_count": null,
   "metadata": {},
   "outputs": [],
   "source": [
    "rt_scores = pd.DataFrame({'Streaming Service': ['Netflix','Prime Video', 'Disney+', 'Hulu'],\n",
    "'Rotten Tomatoes Score': [  netflix_df['Rotten Tomatoes'].value_counts()[0],\n",
    "                            prime_df['Rotten Tomatoes'].value_counts()[0],\n",
    "                            disney_df['Rotten Tomatoes'].value_counts()[0],\n",
    "                            hulu_df['Rotten Tomatoes'].value_counts()[0]\n",
    "]})\n",
    "\n",
    "rt_scores.head()"
   ]
  },
  {
   "cell_type": "code",
   "execution_count": null,
   "metadata": {},
   "outputs": [],
   "source": [
    "fig = px.bar(rt_scores,\n",
    "    x=rt_scores['Streaming Service'],\n",
    "    y=rt_scores['Rotten Tomatoes Score'],\n",
    "    title='100% Rotten Tomato Ratings for each service',\n",
    "    text=rt_scores['Rotten Tomatoes Score'],\n",
    "    height=600)\n",
    "\n",
    "fig.update_traces(marker_color='purple', texttemplate='%{text:.2s}', textposition='outside')\n",
    "fig.show()"
   ]
  },
  {
   "cell_type": "markdown",
   "metadata": {},
   "source": [
    "9. Overall IMDB rating for all services"
   ]
  },
  {
   "cell_type": "code",
   "execution_count": null,
   "metadata": {},
   "outputs": [],
   "source": [
    "fig = px.bar(df,\n",
    "    x=df['IMDb'].value_counts().index,\n",
    "    y=df['IMDb'].value_counts(),\n",
    "    title='Overall IMDb Ratings',\n",
    "    text=df['IMDb'].value_counts(),\n",
    "    height=600)\n",
    "\n",
    "fig.update_traces(texttemplate='%{text:.2s}', textposition='outside')\n",
    "fig.show()"
   ]
  },
  {
   "cell_type": "markdown",
   "metadata": {},
   "source": [
    "10. Countime of Runtime of Movies"
   ]
  },
  {
   "cell_type": "code",
   "execution_count": null,
   "metadata": {},
   "outputs": [],
   "source": [
    "RuntimeCount = pd.DataFrame(dict(df['Runtime'].value_counts().sort_values(ascending=False)[:10]).items(),\n",
    "columns=['Runtime', 'Count'])\n",
    "\n",
    "RuntimeCount"
   ]
  },
  {
   "cell_type": "code",
   "execution_count": null,
   "metadata": {},
   "outputs": [],
   "source": [
    "fig = px.bar(RuntimeCount,\n",
    "    x=RuntimeCount['Runtime'],\n",
    "    y=RuntimeCount['Count'],\n",
    "    title='Overall IMDb Ratings',\n",
    "    text=RuntimeCount['Runtime'],\n",
    "    height=600)\n",
    "\n",
    "fig.update_traces(texttemplate='%{text:.2s}', textposition='outside')\n",
    "fig.show()"
   ]
  },
  {
   "cell_type": "markdown",
   "metadata": {},
   "source": [
    "11. Directors and their count of movies they have directed"
   ]
  },
  {
   "cell_type": "code",
   "execution_count": null,
   "metadata": {},
   "outputs": [],
   "source": [
    "direc_data = dict(df['Directors'].value_counts())\n",
    "\n",
    "directors_count = dict()\n",
    "\n",
    "for director, count in direc_data.items():\n",
    "    curr_dir = director.split(\",\")\n",
    "    for item in curr_dir:\n",
    "        if item in directors_count.keys():\n",
    "            directors_count[item] += 1\n",
    "        else:\n",
    "            directors_count[item] = count"
   ]
  },
  {
   "cell_type": "code",
   "execution_count": null,
   "metadata": {},
   "outputs": [],
   "source": [
    "direc_movie = pd.DataFrame(directors_count.items(), columns=['Director', 'Count'])\n",
    "\n",
    "direc_movie = direc_movie.sort_values(by='Count', ascending=False)\n",
    "\n",
    "direc_movie"
   ]
  },
  {
   "cell_type": "code",
   "execution_count": null,
   "metadata": {},
   "outputs": [],
   "source": [
    "fig = px.bar(direc_movie,\n",
    "    x=direc_movie['Director'],\n",
    "    y=direc_movie['Count'],\n",
    "    title='Director and their movies count',\n",
    "    text=direc_movie['Count'],\n",
    "    height=600)\n",
    "\n",
    "fig.update_traces(marker_color='purple', texttemplate='%{text:.2s}', textposition='outside')\n",
    "fig.show()"
   ]
  },
  {
   "cell_type": "markdown",
   "metadata": {},
   "source": [
    "12. Exploring Genres"
   ]
  },
  {
   "cell_type": "code",
   "execution_count": null,
   "metadata": {},
   "outputs": [],
   "source": [
    "genre_data = dict(df['Genres'].value_counts())\n",
    "\n",
    "genre_count = dict()\n",
    "\n",
    "for genre, count in genre_data.items():\n",
    "    curr_genre = genre.split(',')\n",
    "    for item in curr_genre:\n",
    "        if item in genre_count:\n",
    "            genre_count[item] += 1\n",
    "        else:\n",
    "            genre_count[item] = count"
   ]
  },
  {
   "cell_type": "code",
   "execution_count": null,
   "metadata": {},
   "outputs": [],
   "source": [
    "genre_df = pd.DataFrame(genre_count.items(), columns=['Genre', 'Count'])\n",
    "\n",
    "genre_df = genre_df.sort_values(by='Count', ascending=False)\n",
    "\n",
    "genre_df"
   ]
  },
  {
   "cell_type": "code",
   "execution_count": null,
   "metadata": {},
   "outputs": [],
   "source": [
    "fig = px.bar(genre_df,\n",
    "    x=genre_df['Genre'],\n",
    "    y=genre_df['Count'],\n",
    "    title='Genre and their movies count',\n",
    "    text=genre_df['Count'],\n",
    "    height=600)\n",
    "\n",
    "fig.update_traces(marker_color='purple', texttemplate='%{text:.2s}', textposition='outside')\n",
    "fig.show()"
   ]
  },
  {
   "cell_type": "markdown",
   "metadata": {},
   "source": [
    "13. Top Movies on Netflix"
   ]
  },
  {
   "cell_type": "code",
   "execution_count": null,
   "metadata": {},
   "outputs": [],
   "source": [
    "# top_movie_netflix = netflix_df[ (netflix_df['IMDb'] > 8.5) | (netflix_df['New_Rotten_Tomatoes'] > 85) ] \n",
    "top_movie_netflix = netflix_df[ netflix_df['IMDb'] > 8.5 ]\n",
    "\n",
    "top_movie_netflix"
   ]
  },
  {
   "cell_type": "code",
   "execution_count": null,
   "metadata": {},
   "outputs": [],
   "source": [
    "fig = px.bar(top_movie_netflix,\n",
    "    x=top_movie_netflix['Title'],\n",
    "    y=top_movie_netflix['IMDb'],\n",
    "    title='Top Movies on Netflix',\n",
    "    text=top_movie_netflix['IMDb'],\n",
    "    height=600)\n",
    "\n",
    "fig.update_traces(marker_color='purple', texttemplate='%{text:.2s}', textposition='outside')\n",
    "fig.show()"
   ]
  }
 ],
 "metadata": {
  "kernelspec": {
   "display_name": "Python 3.9.7 64-bit",
   "language": "python",
   "name": "python3"
  },
  "language_info": {
   "codemirror_mode": {
    "name": "ipython",
    "version": 3
   },
   "file_extension": ".py",
   "mimetype": "text/x-python",
   "name": "python",
   "nbconvert_exporter": "python",
   "pygments_lexer": "ipython3",
   "version": "3.9.7"
  },
  "orig_nbformat": 4,
  "vscode": {
   "interpreter": {
    "hash": "7d06d9533ccf12c5a99c20ae85ec219dd290b34781666af9e318672a58066e7c"
   }
  }
 },
 "nbformat": 4,
 "nbformat_minor": 2
}
